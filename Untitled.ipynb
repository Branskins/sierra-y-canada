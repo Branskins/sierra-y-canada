{
 "cells": [
  {
   "cell_type": "markdown",
   "id": "c75aba71",
   "metadata": {},
   "source": [
    "## Utils"
   ]
  },
  {
   "cell_type": "code",
   "execution_count": null,
   "id": "0125a928",
   "metadata": {},
   "outputs": [],
   "source": [
    "# Custom Dataset Normalization\n",
    "import torch\n",
    "from torch.utils.data import DataLoader\n",
    "\n",
    "def compute_mean_std(dataset):\n",
    "    # Calculate mean and std across entire training set\n",
    "    means = torch.zeros(3)\n",
    "    stds = torch.zeros(3)\n",
    "    for image, _ in dataset:\n",
    "        for c in range(3):\n",
    "            means[c] += image[c].mean()\n",
    "            stds[c] += image[c].std()\n",
    "    \n",
    "    means /= len(dataset)\n",
    "    stds /= len(dataset)\n",
    "    return means, stds\n",
    "\n",
    "\n",
    "\n",
    "def compute_mean_std2(dataset):\n",
    "    dataloader = DataLoader(dataset, batch_size=8, shuffle=False)\n",
    "    \n",
    "    mean = torch.zeros(3)\n",
    "    std = torch.zeros(3)\n",
    "    total_samples = 0\n",
    "    \n",
    "    for data, _ in dataloader:\n",
    "        batch_samples = data.size(0)\n",
    "        data = data.view(batch_samples, data.size(1), -1)\n",
    "        mean += data.mean(2).sum(0)\n",
    "        std += data.std(2).sum(0)\n",
    "        total_samples += batch_samples\n",
    "    \n",
    "    mean /= total_samples\n",
    "    std /= total_samples\n",
    "    return mean, std\n"
   ]
  },
  {
   "cell_type": "markdown",
   "id": "1caf4ab4-c11c-4649-9140-996122f8b4dc",
   "metadata": {},
   "source": [
    "## Build the Dataset and DataLoader"
   ]
  },
  {
   "cell_type": "code",
   "execution_count": null,
   "id": "f70dc47e-1bb1-4500-85d0-452afc8b1f91",
   "metadata": {},
   "outputs": [],
   "source": [
    "import os\n",
    "import torch\n",
    "import pandas as pd\n",
    "import matplotlib.pyplot as plt\n",
    "import numpy as np\n",
    "from torch import nn\n",
    "from torchvision.io import decode_image\n",
    "from torch.utils.data import Dataset, DataLoader, ConcatDataset\n",
    "from torch.optim import SGD\n",
    "from torchvision.transforms import v2"
   ]
  },
  {
   "cell_type": "code",
   "execution_count": null,
   "id": "e5d352a1-9bdf-46b0-a365-694214128f10",
   "metadata": {},
   "outputs": [],
   "source": [
    "class PokemonDataset(Dataset):\n",
    "    def __init__(self, annotations_file, img_dir, transform=None, target_transform=None):\n",
    "        self.img_labels = pd.read_csv(annotations_file, dtype={'label': np.int64})\n",
    "        self.img_dir = img_dir\n",
    "        self.transform = transform\n",
    "        self.target_transform = target_transform\n",
    "\n",
    "    def __len__(self):\n",
    "        return len(self.img_labels)\n",
    "\n",
    "    def __getitem__(self, idx):\n",
    "        img_path = os.path.join(self.img_dir, self.img_labels.iloc[idx, 0])\n",
    "        image = decode_image(img_path, mode='RGB')\n",
    "        label = self.img_labels.iloc[idx, 1]\n",
    "        if self.transform:\n",
    "            image = self.transform(image)\n",
    "        if self.target_transform:\n",
    "            label = self.target_transform(label)\n",
    "        return image, label"
   ]
  },
  {
   "cell_type": "code",
   "execution_count": null,
   "id": "7eff441e",
   "metadata": {},
   "outputs": [],
   "source": [
    "def setup_training_dataset(base_dataset, output_size):\n",
    "    size = len(base_dataset)\n",
    "    iters = round(output_size/size)\n",
    "    concat_dataset = [base_dataset]\n",
    "    augment_transform = v2.Compose([\n",
    "        # 1. GEOMETRIC AUGMENTATIONS\n",
    "        v2.Resize(size=(280, 280)),  # Slightly larger for random crop\n",
    "        v2.RandomCrop(size=(256, 256)),  # Random crop instead of direct resize\n",
    "        v2.RandomHorizontalFlip(p=0.5),\n",
    "        v2.RandomRotation(degrees=15),  # Pokemon can be rotated slightly\n",
    "        v2.RandomAffine(\n",
    "            degrees=0,  # Already handled by RandomRotation\n",
    "            translate=(0.1, 0.1),  # Small translation\n",
    "            scale=(0.9, 1.1),  # Slight scaling\n",
    "            shear=5  # Small shear\n",
    "        ),\n",
    "\n",
    "        # 2. COLOR AUGMENTATIONS (Important for Pokemon variety)\n",
    "        v2.ColorJitter(\n",
    "            brightness=0.3,  # Pokemon have varied brightness\n",
    "            contrast=0.3,    # Different contrast levels\n",
    "            saturation=0.4,  # Pokemon have vibrant colors\n",
    "            hue=0.1         # Slight hue variation\n",
    "        ),\n",
    "        v2.RandomGrayscale(p=0.1),  # Occasionally convert to grayscale\n",
    "\n",
    "        # 3. CONVERT AND NORMALIZE\n",
    "        v2.ToDtype(torch.float32),\n",
    "        v2.Normalize(\n",
    "            mean=[85.6542, 80.4268, 72.8841],\n",
    "            std=[93.3963, 88.0354, 82.0991]\n",
    "        ),\n",
    "\n",
    "        # 4. CUTOUT/RANDOM ERASING (Applied after normalization)\n",
    "        v2.RandomErasing(\n",
    "            p=0.3,  # 30% chance\n",
    "            scale=(0.02, 0.15),  # Small to medium patches\n",
    "            ratio=(0.3, 3.3),\n",
    "            value=0  # Erase with normalized mean (0)\n",
    "        )\n",
    "    ])\n",
    "\n",
    "    for _ in range(iters):\n",
    "        concat_dataset.append(PokemonDataset('data/train_labels.csv', 'data/train', augment_transform))\n",
    "\n",
    "    return ConcatDataset(concat_dataset)"
   ]
  },
  {
   "cell_type": "code",
   "execution_count": null,
   "id": "28adef20-1aee-4263-a8f5-7c7202bf666f",
   "metadata": {},
   "outputs": [],
   "source": [
    "train_transform = v2.Compose([\n",
    "    v2.Resize(size=(256,256)),\n",
    "    v2.ToDtype(torch.float32),\n",
    "    v2.Normalize(\n",
    "        mean=[85.6542, 80.4268, 72.8841],\n",
    "        std=[93.3963, 88.0354, 82.0991]\n",
    "    )\n",
    "])\n",
    "test_transform = v2.Compose([\n",
    "    v2.Resize(size=(256,256)),\n",
    "    v2.ToDtype(torch.float32),\n",
    "    v2.Normalize(\n",
    "        mean=[231.0843, 225.8617, 219.1473],\n",
    "        std=[43.8241, 48.9563, 60.1995]\n",
    "    )\n",
    "])\n",
    "\n",
    "train_data = setup_training_dataset(PokemonDataset('data/train_labels.csv', 'data/train', train_transform), 10000)\n",
    "test_data = PokemonDataset('data/test_labels.csv', 'data/test', test_transform)"
   ]
  },
  {
   "cell_type": "code",
   "execution_count": null,
   "id": "f243e774-912f-4dca-8e2d-3cd6933dba5f",
   "metadata": {},
   "outputs": [],
   "source": [
    "batch_size = 8\n",
    "train_dataloader = DataLoader(train_data, batch_size, shuffle=True)\n",
    "test_dataloader = DataLoader(test_data, batch_size, shuffle=True)"
   ]
  },
  {
   "cell_type": "markdown",
   "id": "8c754495-7385-4d36-a5de-c959f3f60fe1",
   "metadata": {},
   "source": [
    "### Build model"
   ]
  },
  {
   "cell_type": "code",
   "execution_count": null,
   "id": "50ca30f9-505c-4e2d-ad0c-70f31ce1dd59",
   "metadata": {},
   "outputs": [],
   "source": [
    "# Get cpu, gpu or mps device for training.\n",
    "device = (\n",
    "    \"cuda\"\n",
    "    if torch.cuda.is_available()\n",
    "    else \"mps\"\n",
    "    if torch.backends.mps.is_available()\n",
    "    else \"cpu\"\n",
    ")"
   ]
  },
  {
   "cell_type": "code",
   "execution_count": null,
   "id": "ce07a3be-d071-493a-a5fa-23dae30b56ef",
   "metadata": {},
   "outputs": [],
   "source": [
    "# Build model\n",
    "class NeuralNetwork(nn.Module):\n",
    "    def __init__(self, input_size):\n",
    "        super().__init__()\n",
    "        self.flatten = nn.Flatten()\n",
    "        self.sequential_stack = nn.Sequential(\n",
    "            nn.Linear(input_size, 6144),\n",
    "            nn.ReLU(),\n",
    "            nn.Linear(6144, 3072),\n",
    "            nn.ReLU(),\n",
    "            nn.Linear(3072, 1536),\n",
    "            nn.ReLU(),\n",
    "            nn.Linear(1536, 768),\n",
    "            nn.ReLU(),\n",
    "            nn.Linear(768, 384),\n",
    "            nn.ReLU(),\n",
    "            nn.Linear(384, 151)\n",
    "        )\n",
    "\n",
    "    def forward(self, x):\n",
    "        x = self.flatten(x)\n",
    "        logits = self.sequential_stack(x)\n",
    "        return logits"
   ]
  },
  {
   "cell_type": "code",
   "execution_count": null,
   "id": "c5753709-e3ff-4abd-8bd0-db990ddae399",
   "metadata": {},
   "outputs": [],
   "source": [
    "model = NeuralNetwork(196608).to(device)\n",
    "model"
   ]
  },
  {
   "cell_type": "markdown",
   "id": "d73f7c0f-3ab3-4127-a422-b6e287b0ac98",
   "metadata": {},
   "source": [
    "## Optimize the Model Paremeters"
   ]
  },
  {
   "cell_type": "code",
   "execution_count": null,
   "id": "2c3e9f94-1cde-454e-a808-9fb5489991fa",
   "metadata": {},
   "outputs": [],
   "source": [
    "def train(dataloader, model, loss_fn, optimizer):\n",
    "    model.train()\n",
    "    size = len(dataloader.dataset)\n",
    "    \n",
    "    for batch, (X, y) in enumerate(dataloader):\n",
    "        X, y = X.to(device), y.to(device)\n",
    "\n",
    "        # Resets gradients\n",
    "        optimizer.zero_grad()\n",
    "\n",
    "        # Compute prediction error\n",
    "        pred = model(X)\n",
    "        loss = loss_fn(pred, y)\n",
    "\n",
    "        # Backpropagation\n",
    "        loss.backward()\n",
    "        optimizer.step()\n",
    "\n",
    "        if batch % 15 == 0:\n",
    "            loss, current = loss.item(), (batch + 1) * len(X)\n",
    "            print(f\"loss: {loss:>7f}  [{current:>5d}/{size:>5d}]\")"
   ]
  },
  {
   "cell_type": "code",
   "execution_count": null,
   "id": "2b9e7f0a-d0f5-42a4-85a9-48f83b756fd0",
   "metadata": {},
   "outputs": [],
   "source": [
    "def test(dataloader, model, loss_fn):\n",
    "    model.eval()\n",
    "    size = len(dataloader.dataset)\n",
    "    num_batches = len(dataloader)\n",
    "    test_loss, correct = 0, 0\n",
    "    \n",
    "    with torch.no_grad():\n",
    "        for X, y in dataloader:\n",
    "            X, y = X.to(device), y.to(device)\n",
    "            pred = model(X)\n",
    "            test_loss += loss_fn(pred, y).item()\n",
    "            correct += (pred.argmax(1) == y).type(torch.float).sum().item()\n",
    "    \n",
    "    test_loss /= num_batches\n",
    "    correct /= size\n",
    "    print(f\"Test Error: \\n Accuracy: {(100*correct):>0.1f}%, Avg loss: {test_loss:>7f} \\n\")"
   ]
  },
  {
   "cell_type": "code",
   "execution_count": null,
   "id": "22252196",
   "metadata": {},
   "outputs": [],
   "source": [
    "loss_fn = nn.CrossEntropyLoss()\n",
    "optimizer = SGD(model.parameters(), lr=1e-3)"
   ]
  },
  {
   "cell_type": "code",
   "execution_count": null,
   "id": "faaf83a8-cfe8-4df3-89df-1da8147d1cac",
   "metadata": {
    "scrolled": true
   },
   "outputs": [],
   "source": [
    "epochs = 10\n",
    "for t in range(epochs):\n",
    "    print(f\"Epoch {t+1}\\n-------------------------------\")\n",
    "    train(train_dataloader, model, loss_fn, optimizer)\n",
    "    test(test_dataloader, model, loss_fn)\n",
    "print(\"Done!\")"
   ]
  }
 ],
 "metadata": {
  "kernelspec": {
   "display_name": "sierra-y-canada-Epnh8FTA-py3.11",
   "language": "python",
   "name": "python3"
  },
  "language_info": {
   "codemirror_mode": {
    "name": "ipython",
    "version": 3
   },
   "file_extension": ".py",
   "mimetype": "text/x-python",
   "name": "python",
   "nbconvert_exporter": "python",
   "pygments_lexer": "ipython3",
   "version": "3.11.4"
  }
 },
 "nbformat": 4,
 "nbformat_minor": 5
}
