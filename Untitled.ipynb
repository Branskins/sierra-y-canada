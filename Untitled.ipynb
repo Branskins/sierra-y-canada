{
 "cells": [
  {
   "cell_type": "code",
   "execution_count": null,
   "id": "cfa81740",
   "metadata": {},
   "outputs": [],
   "source": [
    "import requests\n",
    "import os\n",
    "import pandas as pd\n",
    "from PIL import Image\n",
    "from urllib.request import urlopen"
   ]
  },
  {
   "cell_type": "markdown",
   "id": "cbef9896-c73e-462c-b0d1-43a5de3dbd99",
   "metadata": {},
   "source": [
    "## Load Pokemon URLs"
   ]
  },
  {
   "cell_type": "code",
   "execution_count": null,
   "id": "0cd4b8cf",
   "metadata": {},
   "outputs": [],
   "source": [
    "pokemon_api = 'https://pokeapi.co/api/v2/pokemon/?limit=151'\n",
    "r = requests.get(pokemon_api)"
   ]
  },
  {
   "cell_type": "code",
   "execution_count": null,
   "id": "b2a3ef52",
   "metadata": {},
   "outputs": [],
   "source": [
    "df_pkmn_urls = pd.DataFrame(r.json()['results'])"
   ]
  },
  {
   "cell_type": "code",
   "execution_count": null,
   "id": "cdb95716",
   "metadata": {},
   "outputs": [],
   "source": [
    "def get_sprite_url_official_artwork(pkmn_url):\n",
    "    r = requests.get(pkmn_url)\n",
    "    return r.json()['sprites']['other']['official-artwork']['front_default']\n",
    "\n",
    "def get_sprite_url_home(pkmn_url):\n",
    "    r = requests.get(pkmn_url)\n",
    "    return r.json()['sprites']['other']['home']['front_default']"
   ]
  },
  {
   "cell_type": "code",
   "execution_count": null,
   "id": "be95673f",
   "metadata": {},
   "outputs": [],
   "source": [
    "s_url = df_pkmn_urls['url']"
   ]
  },
  {
   "cell_type": "code",
   "execution_count": null,
   "id": "4a4949da-75ee-483e-941a-40c3b43453be",
   "metadata": {},
   "outputs": [],
   "source": [
    "# Get official artwork urls\n",
    "s_url_sprites_official_artwork = s_url.apply(get_sprite_url_official_artwork)\n",
    "s_url_sprites_official_artwork.name = 'official_artwork_url'"
   ]
  },
  {
   "cell_type": "code",
   "execution_count": null,
   "id": "4af7119f",
   "metadata": {},
   "outputs": [],
   "source": [
    "# Get home urls\n",
    "s_url_sprites_home = s_url.apply(get_sprite_url_home)\n",
    "s_url_sprites_home.name = 'home_url'"
   ]
  },
  {
   "cell_type": "code",
   "execution_count": null,
   "id": "6d621620",
   "metadata": {},
   "outputs": [],
   "source": [
    "df_pkmn_resources = pd.concat(\n",
    "    [df_pkmn_urls, s_url_sprites_official_artwork.to_frame(), s_url_sprites_home.to_frame()],\n",
    "    axis=1)"
   ]
  },
  {
   "cell_type": "code",
   "execution_count": null,
   "id": "98b2860e-138e-4cc7-8ff3-62f8fad3cdbe",
   "metadata": {},
   "outputs": [],
   "source": [
    "os.makedirs('data', exist_ok=True)"
   ]
  },
  {
   "cell_type": "code",
   "execution_count": null,
   "id": "fa1f0c94",
   "metadata": {},
   "outputs": [],
   "source": [
    "df_pkmn_resources.to_csv('data/pokemon_resources.csv', index=False)"
   ]
  },
  {
   "cell_type": "markdown",
   "id": "14664c32-cb86-47eb-b6d9-6f0a5cd8e087",
   "metadata": {},
   "source": [
    "### Create labels"
   ]
  },
  {
   "cell_type": "code",
   "execution_count": null,
   "id": "58e4483c-0222-476f-843e-30b60c939e65",
   "metadata": {},
   "outputs": [],
   "source": [
    "transform_function = lambda x: x + '.png'"
   ]
  },
  {
   "cell_type": "code",
   "execution_count": null,
   "id": "912c058b-5547-445a-a75a-30c5569da771",
   "metadata": {},
   "outputs": [],
   "source": [
    "s_annotation_png = df_pkmn_urls['name'].apply(transform_function)\n",
    "s_annotation_label = df_pkmn_urls.index\n",
    "df_pkmn_annotations = pd.DataFrame({'image':s_annotation_png, 'label':s_annotation_label})"
   ]
  },
  {
   "cell_type": "code",
   "execution_count": null,
   "id": "f5d2706a-f729-4365-89a6-5b2ea3904713",
   "metadata": {},
   "outputs": [],
   "source": [
    "df_pkmn_annotations.to_csv('data/labels.csv', index=False)"
   ]
  },
  {
   "cell_type": "markdown",
   "id": "bf0f15b1-6cb2-4d12-99fc-a2530ac2314f",
   "metadata": {},
   "source": [
    "## Load Pokemon sprites"
   ]
  },
  {
   "cell_type": "code",
   "execution_count": null,
   "id": "1b974e4c",
   "metadata": {},
   "outputs": [],
   "source": [
    "# load pokemon resources\n",
    "df_pkmn_resources = pd.read_csv('data/pokemon_resources.csv')"
   ]
  },
  {
   "cell_type": "code",
   "execution_count": null,
   "id": "c9348cc4",
   "metadata": {},
   "outputs": [],
   "source": [
    "os.makedirs('data/pokemon_sprites/official_artwork', exist_ok=True)\n",
    "os.makedirs('data/pokemon_sprites/home', exist_ok=True)"
   ]
  },
  {
   "cell_type": "code",
   "execution_count": null,
   "id": "48c96520",
   "metadata": {},
   "outputs": [],
   "source": [
    "# TODO: placeholder for the data to download\n",
    "def get_sprite_image(s_pkmn):\n",
    "    status_code = 0\n",
    "    url_sprite = s_pkmn['home_url']\n",
    "    name = s_pkmn['name']\n",
    "    \n",
    "    with urlopen(url_sprite) as f:\n",
    "        status_code = f.status\n",
    "        img = Image.open(f)\n",
    "        img.save(f'data/pokemon_sprites/home/{name}.{img.format.lower()}',\n",
    "         format=img.format)\n",
    "        \n",
    "    return status_code"
   ]
  },
  {
   "cell_type": "code",
   "execution_count": null,
   "id": "c7c2bda6-cf25-4cb2-873a-aaa8109ab16a",
   "metadata": {},
   "outputs": [],
   "source": [
    "df_pkmn_resources.apply(get_sprite_image, axis=1)"
   ]
  },
  {
   "cell_type": "markdown",
   "id": "1caf4ab4-c11c-4649-9140-996122f8b4dc",
   "metadata": {},
   "source": [
    "## Build the Dataset and DataLoader"
   ]
  },
  {
   "cell_type": "code",
   "execution_count": null,
   "id": "f70dc47e-1bb1-4500-85d0-452afc8b1f91",
   "metadata": {},
   "outputs": [],
   "source": [
    "import os\n",
    "import torch\n",
    "import pandas as pd\n",
    "import matplotlib.pyplot as plt\n",
    "from torch import nn\n",
    "from torchvision.io import read_image\n",
    "from torch.utils.data import Dataset, DataLoader\n",
    "from torch.optim import SGD\n",
    "from torchvision.transforms import v2"
   ]
  },
  {
   "cell_type": "code",
   "execution_count": null,
   "id": "e5d352a1-9bdf-46b0-a365-694214128f10",
   "metadata": {},
   "outputs": [],
   "source": [
    "class PokemonDataset(Dataset):\n",
    "    def __init__(self, annotations_file, img_dir, transform=None, target_transform=None):\n",
    "        self.img_labels = pd.read_csv(annotations_file)\n",
    "        self.img_dir = img_dir\n",
    "        self.transform = transform\n",
    "        self.target_transform = target_transform\n",
    "\n",
    "    def __len__(self):\n",
    "        return len(self.img_labels)\n",
    "\n",
    "    def __getitem__(self, idx):\n",
    "        img_path = os.path.join(self.img_dir, self.img_labels.iloc[idx, 0])\n",
    "        image = read_image(img_path)\n",
    "        label = self.img_labels.iloc[idx, 1]\n",
    "        if self.transform:\n",
    "            image = self.transform(image)\n",
    "        if self.target_transform:\n",
    "            label = self.target_transform(label)\n",
    "        return image, label"
   ]
  },
  {
   "cell_type": "code",
   "execution_count": null,
   "id": "28adef20-1aee-4263-a8f5-7c7202bf666f",
   "metadata": {},
   "outputs": [],
   "source": [
    "train_data = PokemonDataset('data/labels.csv', 'data/pokemon_sprites/official_artwork')\n",
    "test_data = PokemonDataset('data/labels.csv', 'data/pokemon_sprites/home')"
   ]
  },
  {
   "cell_type": "code",
   "execution_count": null,
   "id": "f243e774-912f-4dca-8e2d-3cd6933dba5f",
   "metadata": {},
   "outputs": [],
   "source": [
    "batch_size = 15\n",
    "train_dataloader = DataLoader(train_data, batch_size, shuffle=True)\n",
    "test_dataloader = DataLoader(test_data, batch_size, shuffle=True)"
   ]
  },
  {
   "cell_type": "code",
   "execution_count": null,
   "id": "36254f98-8f6d-438a-b02f-dab30163e87a",
   "metadata": {},
   "outputs": [],
   "source": [
    "sample = next(iter(train_dataloader))"
   ]
  },
  {
   "cell_type": "code",
   "execution_count": null,
   "id": "c5804023-db18-4aff-ae53-259d8760b034",
   "metadata": {},
   "outputs": [],
   "source": [
    "sample[0][0].dtype"
   ]
  },
  {
   "cell_type": "code",
   "execution_count": null,
   "id": "29bb1df7-8218-44b3-8a1e-a1b4bff1e186",
   "metadata": {},
   "outputs": [],
   "source": [
    "sample[0][0].type(torch.float32).dtype"
   ]
  },
  {
   "cell_type": "code",
   "execution_count": null,
   "id": "e1ac4619-b694-4c6b-88ad-088dbaaf0505",
   "metadata": {},
   "outputs": [],
   "source": [
    "sample_test = next(iter(test_dataloader))\n",
    "test_resized = v2.Resize(size=475)(sample_test[0][0])\n",
    "plt.imshow(test_resized.permute(1, 2, 0))"
   ]
  },
  {
   "cell_type": "markdown",
   "id": "8c754495-7385-4d36-a5de-c959f3f60fe1",
   "metadata": {},
   "source": [
    "### Build model"
   ]
  },
  {
   "cell_type": "code",
   "execution_count": null,
   "id": "50ca30f9-505c-4e2d-ad0c-70f31ce1dd59",
   "metadata": {},
   "outputs": [],
   "source": [
    "# Get cpu, gpu or mps device for training.\n",
    "device = (\n",
    "    \"cuda\"\n",
    "    if torch.cuda.is_available()\n",
    "    else \"mps\"\n",
    "    if torch.backends.mps.is_available()\n",
    "    else \"cpu\"\n",
    ")"
   ]
  },
  {
   "cell_type": "code",
   "execution_count": null,
   "id": "3d60e41d-2c7c-452e-a0f1-347b01a218f8",
   "metadata": {},
   "outputs": [],
   "source": [
    "# Build model\n",
    "class NeuralNetwork(nn.Module):\n",
    "    def __init__(self, input_size):\n",
    "        super().__init__()\n",
    "        self.flatten = nn.Flatten()\n",
    "        self.sequential_stack = nn.Sequential(\n",
    "            nn.Linear(input_size, 50),\n",
    "            nn.ReLU(),\n",
    "            nn.Dropout (0.4),\n",
    "            nn.Linear(50, 151)\n",
    "        )\n",
    "\n",
    "    def forward(self, x):\n",
    "        x = self.flatten(x)\n",
    "        logits = self.sequential_stack(x)\n",
    "        return logits"
   ]
  },
  {
   "cell_type": "code",
   "execution_count": null,
   "id": "c5753709-e3ff-4abd-8bd0-db990ddae399",
   "metadata": {},
   "outputs": [],
   "source": [
    "model = NeuralNetwork(475).to(device)\n",
    "print(model)"
   ]
  },
  {
   "cell_type": "markdown",
   "id": "d73f7c0f-3ab3-4127-a422-b6e287b0ac98",
   "metadata": {},
   "source": [
    "## Optimize the Model Paremeters"
   ]
  },
  {
   "cell_type": "code",
   "execution_count": null,
   "id": "7b11605a-95f2-4634-8264-16044e367829",
   "metadata": {},
   "outputs": [],
   "source": [
    "loss_fn = nn.MSELoss()\n",
    "optimizer = SGD(model.parameters(), lr=1e-3)"
   ]
  },
  {
   "cell_type": "code",
   "execution_count": null,
   "id": "2c3e9f94-1cde-454e-a808-9fb5489991fa",
   "metadata": {},
   "outputs": [],
   "source": [
    "def train(dataloader, model, loss_fn, optimizer):\n",
    "    model.train()\n",
    "    for batch, (X, y) in enumerate(dataloader):\n",
    "        X, y = X.to(device), y.to(device)\n",
    "\n",
    "        # Compute prediction error\n",
    "        pred = model(X)\n",
    "        loss = loss_fn(pred, y)\n",
    "\n",
    "        # Backpropagation\n",
    "        loss.backward()\n",
    "        optimizer.step()\n",
    "        optimizer.zero_grad()\n",
    "\n",
    "        if batch % 100 == 0:\n",
    "            loss, current = loss.item(), (batch + 1) * len(X)\n",
    "            print(f\"loss: {loss:>7f}  [{current:>5d}/{size:>5d}]\")"
   ]
  },
  {
   "cell_type": "code",
   "execution_count": null,
   "id": "2b9e7f0a-d0f5-42a4-85a9-48f83b756fd0",
   "metadata": {},
   "outputs": [],
   "source": [
    "def test(dataloader, model, loss_fn):\n",
    "    model.eval()\n",
    "    size = len(dataloader.dataset)\n",
    "    num_batches = len(dataloader)\n",
    "    test_loss, correct = 0, 0\n",
    "    \n",
    "    with torch.no_grad():\n",
    "        for X, y in dataloader:\n",
    "            X, y = X.to(device), y.to(device)\n",
    "            pred = model(X)\n",
    "            test_loss += loss_fn(pred, y).item()\n",
    "            correct += (pred.argmax(1) == y).type(torch.float).sum().item()\n",
    "    \n",
    "    test_loss /= num_batches\n",
    "    correct /= size\n",
    "    print(f\"Test Error: \\n Accuracy: {(100*correct):>0.1f}%, Avg loss: {test_loss:>8f} \\n\")"
   ]
  },
  {
   "cell_type": "code",
   "execution_count": null,
   "id": "faaf83a8-cfe8-4df3-89df-1da8147d1cac",
   "metadata": {},
   "outputs": [],
   "source": [
    "# TODO: Make it work\n",
    "train(train_dataloader, model, loss_fn, optimizer)"
   ]
  }
 ],
 "metadata": {
  "kernelspec": {
   "display_name": "Python 3 (ipykernel)",
   "language": "python",
   "name": "python3"
  },
  "language_info": {
   "codemirror_mode": {
    "name": "ipython",
    "version": 3
   },
   "file_extension": ".py",
   "mimetype": "text/x-python",
   "name": "python",
   "nbconvert_exporter": "python",
   "pygments_lexer": "ipython3",
   "version": "3.11.4"
  }
 },
 "nbformat": 4,
 "nbformat_minor": 5
}
