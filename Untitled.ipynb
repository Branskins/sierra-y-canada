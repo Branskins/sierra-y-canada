{
 "cells": [
  {
   "cell_type": "code",
   "execution_count": null,
   "id": "cfa81740",
   "metadata": {},
   "outputs": [],
   "source": [
    "import requests\n",
    "import os\n",
    "import pandas as pd\n",
    "from PIL import Image\n",
    "from urllib.request import urlopen"
   ]
  },
  {
   "cell_type": "markdown",
   "id": "cbef9896-c73e-462c-b0d1-43a5de3dbd99",
   "metadata": {},
   "source": [
    "## Load Pokemon URLs"
   ]
  },
  {
   "cell_type": "code",
   "execution_count": null,
   "id": "0cd4b8cf",
   "metadata": {},
   "outputs": [],
   "source": [
    "pokemon_api = 'https://pokeapi.co/api/v2/pokemon/?limit=151'\n",
    "r = requests.get(pokemon_api)"
   ]
  },
  {
   "cell_type": "code",
   "execution_count": null,
   "id": "b2a3ef52",
   "metadata": {},
   "outputs": [],
   "source": [
    "df_pkmn_urls = pd.DataFrame(r.json()['results'])"
   ]
  },
  {
   "cell_type": "code",
   "execution_count": null,
   "id": "cdb95716",
   "metadata": {},
   "outputs": [],
   "source": [
    "def get_sprite_url(pkmn_url):\n",
    "    r = requests.get(pkmn_url)\n",
    "    return r.json()['sprites']['other']['official-artwork']['front_default']"
   ]
  },
  {
   "cell_type": "code",
   "execution_count": null,
   "id": "be95673f",
   "metadata": {},
   "outputs": [],
   "source": [
    "s_url = df_pkmn_urls['url']\n",
    "s_pkmn_url_sprites = s_url.apply(get_sprite_url)"
   ]
  },
  {
   "cell_type": "code",
   "execution_count": null,
   "id": "4af7119f",
   "metadata": {},
   "outputs": [],
   "source": [
    "s_pkmn_url_sprites.name = 'url_sprite'"
   ]
  },
  {
   "cell_type": "code",
   "execution_count": null,
   "id": "6d621620",
   "metadata": {},
   "outputs": [],
   "source": [
    "df_pkmn_resources = pd.concat(\n",
    "    [df_pkmn_urls, s_pkmn_url_sprites.to_frame()],\n",
    "    axis=1)"
   ]
  },
  {
   "cell_type": "code",
   "execution_count": null,
   "id": "98b2860e-138e-4cc7-8ff3-62f8fad3cdbe",
   "metadata": {},
   "outputs": [],
   "source": [
    "os.makedirs('data', exist_ok=True)"
   ]
  },
  {
   "cell_type": "code",
   "execution_count": null,
   "id": "fa1f0c94",
   "metadata": {},
   "outputs": [],
   "source": [
    "df_pkmn_resources.to_csv('data/pokemon_resources.csv', index=False)"
   ]
  },
  {
   "cell_type": "markdown",
   "id": "14664c32-cb86-47eb-b6d9-6f0a5cd8e087",
   "metadata": {},
   "source": [
    "### Create labels"
   ]
  },
  {
   "cell_type": "code",
   "execution_count": null,
   "id": "58e4483c-0222-476f-843e-30b60c939e65",
   "metadata": {},
   "outputs": [],
   "source": [
    "transform_function = lambda x: x + '.png'"
   ]
  },
  {
   "cell_type": "code",
   "execution_count": null,
   "id": "912c058b-5547-445a-a75a-30c5569da771",
   "metadata": {},
   "outputs": [],
   "source": [
    "s_annotation_png = df_pkmn_urls['name'].apply(transform_function)\n",
    "s_annotation_label = df_pkmn_urls.index\n",
    "df_pkmn_annotations = pd.DataFrame({'image':s_annotation_png, 'label':s_annotation_label})"
   ]
  },
  {
   "cell_type": "code",
   "execution_count": null,
   "id": "f5d2706a-f729-4365-89a6-5b2ea3904713",
   "metadata": {},
   "outputs": [],
   "source": [
    "df_pkmn_annotations.to_csv('data/labels.csv', index=False)"
   ]
  },
  {
   "cell_type": "markdown",
   "id": "bf0f15b1-6cb2-4d12-99fc-a2530ac2314f",
   "metadata": {},
   "source": [
    "## Load Pokemon sprites"
   ]
  },
  {
   "cell_type": "code",
   "execution_count": null,
   "id": "1b974e4c",
   "metadata": {},
   "outputs": [],
   "source": [
    "# load pokemon resources\n",
    "df_pkmn_resources = pd.read_csv('data/pokemon_resources.csv')"
   ]
  },
  {
   "cell_type": "code",
   "execution_count": null,
   "id": "c9348cc4",
   "metadata": {},
   "outputs": [],
   "source": [
    "os.makedirs('data/pokemon_sprites', exist_ok=True)"
   ]
  },
  {
   "cell_type": "code",
   "execution_count": null,
   "id": "48c96520",
   "metadata": {},
   "outputs": [],
   "source": [
    "def get_sprite_image(s_pkmn):\n",
    "    status_code = 0\n",
    "    url_sprite = s_pkmn['url_sprite']\n",
    "    name = s_pkmn['name']\n",
    "    \n",
    "    with urlopen(url_sprite) as f:\n",
    "        status_code = f.status\n",
    "        img = Image.open(f)\n",
    "        img.save(f'data/pokemon_sprites/{name}.{img.format.lower()}',\n",
    "         format=img.format)\n",
    "        \n",
    "    return status_code"
   ]
  },
  {
   "cell_type": "code",
   "execution_count": null,
   "id": "c7c2bda6-cf25-4cb2-873a-aaa8109ab16a",
   "metadata": {},
   "outputs": [],
   "source": [
    "df_pkmn_resources.apply(get_sprite_image, axis=1)"
   ]
  },
  {
   "cell_type": "markdown",
   "id": "1caf4ab4-c11c-4649-9140-996122f8b4dc",
   "metadata": {},
   "source": [
    "## Build model"
   ]
  },
  {
   "cell_type": "code",
   "execution_count": null,
   "id": "f70dc47e-1bb1-4500-85d0-452afc8b1f91",
   "metadata": {},
   "outputs": [],
   "source": [
    "import os\n",
    "import pandas as pd\n",
    "from torch import nn\n",
    "from torchvision.io import read_image\n",
    "from torch.utils.data import Dataset"
   ]
  },
  {
   "cell_type": "code",
   "execution_count": null,
   "id": "e5d352a1-9bdf-46b0-a365-694214128f10",
   "metadata": {},
   "outputs": [],
   "source": [
    "class PokemonDataset(Dataset):\n",
    "    def __init__(self, annotations_file, img_dir, transform=None, target_transform=None):\n",
    "        self.img_labels = pd.read_csv(annotations_file)\n",
    "        self.img_dir = img_dir\n",
    "        self.transfrom = transform\n",
    "        self.target_transform = target_transform\n",
    "\n",
    "    def __len__(self):\n",
    "        return len(self.img_labels)\n",
    "\n",
    "    def __getitem__(self, idx):\n",
    "        img_path = os.path.join(self.img_dir, self.img_labels.iloc[idx, 0])\n",
    "        image = read_image(img_path)\n",
    "        label = self.img_labels.iloc[idx, 1]\n",
    "        if self.transform:\n",
    "            image = self.transform(image)\n",
    "        if self.target_transform:\n",
    "            label = self.target_transform(label)\n",
    "        return image, label"
   ]
  },
  {
   "cell_type": "code",
   "execution_count": null,
   "id": "50ca30f9-505c-4e2d-ad0c-70f31ce1dd59",
   "metadata": {},
   "outputs": [],
   "source": [
    "# Get cpu, gpu or mps device for training.\n",
    "device = (\n",
    "    \"cuda\"\n",
    "    if torch.cuda.is_available()\n",
    "    else \"mps\"\n",
    "    if torch.backends.mps.is_available()\n",
    "    else \"cpu\"\n",
    ")"
   ]
  },
  {
   "cell_type": "code",
   "execution_count": null,
   "id": "3d60e41d-2c7c-452e-a0f1-347b01a218f8",
   "metadata": {},
   "outputs": [],
   "source": [
    "# Build model\n",
    "class NeuralNetwork(nn.Module):\n",
    "    def __init__(self, input_size):\n",
    "        super().__init__()\n",
    "        self.flatten = nn.Flatten()\n",
    "        self.sequential_stack = nn.Sequential(\n",
    "            nn.Linear(input_size, 50),\n",
    "            nn.ReLU(),\n",
    "            nn.Dropout (0.4),\n",
    "            nn.Linear(50, 1))\n",
    "        )\n",
    "\n",
    "    def forward(self, x):\n",
    "        x = self.flatten(x)\n",
    "        return self.sequential_stack(x)"
   ]
  },
  {
   "cell_type": "code",
   "execution_count": null,
   "id": "a741f5fd-e519-438d-a3b3-8b382be04586",
   "metadata": {},
   "outputs": [],
   "source": [
    "model = NeuralNetwork().to(device)"
   ]
  }
 ],
 "metadata": {
  "kernelspec": {
   "display_name": "Python 3 (ipykernel)",
   "language": "python",
   "name": "python3"
  },
  "language_info": {
   "codemirror_mode": {
    "name": "ipython",
    "version": 3
   },
   "file_extension": ".py",
   "mimetype": "text/x-python",
   "name": "python",
   "nbconvert_exporter": "python",
   "pygments_lexer": "ipython3",
   "version": "3.9.18"
  }
 },
 "nbformat": 4,
 "nbformat_minor": 5
}
