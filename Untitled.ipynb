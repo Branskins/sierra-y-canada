{
 "cells": [
  {
   "cell_type": "code",
   "execution_count": 20,
   "id": "cfa81740",
   "metadata": {},
   "outputs": [],
   "source": [
    "import requests\n",
    "import os\n",
    "import pandas as pd\n",
    "from PIL import Image\n",
    "from urllib.request import urlopen"
   ]
  },
  {
   "cell_type": "markdown",
   "id": "cbef9896-c73e-462c-b0d1-43a5de3dbd99",
   "metadata": {},
   "source": [
    "## Load Pokemon URLs"
   ]
  },
  {
   "cell_type": "code",
   "execution_count": 11,
   "id": "0cd4b8cf",
   "metadata": {},
   "outputs": [],
   "source": [
    "pokemon_api = 'https://pokeapi.co/api/v2/pokemon/?limit=151'\n",
    "r = requests.get(pokemon_api)"
   ]
  },
  {
   "cell_type": "code",
   "execution_count": 12,
   "id": "b2a3ef52",
   "metadata": {},
   "outputs": [],
   "source": [
    "df_pkmn_urls = pd.DataFrame(r.json()['results'])"
   ]
  },
  {
   "cell_type": "code",
   "execution_count": 14,
   "id": "cdb95716",
   "metadata": {},
   "outputs": [],
   "source": [
    "def get_sprite_url(pkmn_url):\n",
    "    r = requests.get(pkmn_url)\n",
    "    return r.json()['sprites']['other']['official-artwork']['front_default']"
   ]
  },
  {
   "cell_type": "code",
   "execution_count": 15,
   "id": "be95673f",
   "metadata": {},
   "outputs": [],
   "source": [
    "s_url = df_pkmn_urls['url']\n",
    "s_pkmn_url_sprites = s_url.apply(get_sprite_url)"
   ]
  },
  {
   "cell_type": "code",
   "execution_count": 16,
   "id": "97b5c227-3cb8-4171-99e9-1d739607811a",
   "metadata": {},
   "outputs": [
    {
     "data": {
      "text/plain": [
       "0      https://raw.githubusercontent.com/PokeAPI/spri...\n",
       "1      https://raw.githubusercontent.com/PokeAPI/spri...\n",
       "2      https://raw.githubusercontent.com/PokeAPI/spri...\n",
       "3      https://raw.githubusercontent.com/PokeAPI/spri...\n",
       "4      https://raw.githubusercontent.com/PokeAPI/spri...\n",
       "                             ...                        \n",
       "146    https://raw.githubusercontent.com/PokeAPI/spri...\n",
       "147    https://raw.githubusercontent.com/PokeAPI/spri...\n",
       "148    https://raw.githubusercontent.com/PokeAPI/spri...\n",
       "149    https://raw.githubusercontent.com/PokeAPI/spri...\n",
       "150    https://raw.githubusercontent.com/PokeAPI/spri...\n",
       "Name: url, Length: 151, dtype: object"
      ]
     },
     "execution_count": 16,
     "metadata": {},
     "output_type": "execute_result"
    }
   ],
   "source": [
    "s_pkmn_url_sprites"
   ]
  },
  {
   "cell_type": "code",
   "execution_count": 17,
   "id": "4af7119f",
   "metadata": {},
   "outputs": [],
   "source": [
    "s_pkmn_url_sprites.name = 'url_sprite'"
   ]
  },
  {
   "cell_type": "code",
   "execution_count": 18,
   "id": "6d621620",
   "metadata": {},
   "outputs": [],
   "source": [
    "df_pkmn_resources = pd.concat(\n",
    "    [df_pkmn_urls, s_pkmn_url_sprites.to_frame()],\n",
    "    axis=1)"
   ]
  },
  {
   "cell_type": "code",
   "execution_count": 19,
   "id": "fa1f0c94",
   "metadata": {},
   "outputs": [],
   "source": [
    "# Save pokemon resources\n",
    "os.makedirs('data', exist_ok=True)\n",
    "df_pkmn_resources.to_csv('data/pokemon_resources.csv', index=False)"
   ]
  },
  {
   "cell_type": "markdown",
   "id": "bf0f15b1-6cb2-4d12-99fc-a2530ac2314f",
   "metadata": {},
   "source": [
    "## Load Pokemon sprites"
   ]
  },
  {
   "cell_type": "code",
   "execution_count": 21,
   "id": "1b974e4c",
   "metadata": {},
   "outputs": [],
   "source": [
    "# load pokemon resources\n",
    "df_pkmn_resources = pd.read_csv('data/pokemon_resources.csv')"
   ]
  },
  {
   "cell_type": "code",
   "execution_count": 22,
   "id": "c9348cc4",
   "metadata": {},
   "outputs": [],
   "source": [
    "os.makedirs('data/pokemon_sprites', exist_ok=True)"
   ]
  },
  {
   "cell_type": "code",
   "execution_count": 23,
   "id": "48c96520",
   "metadata": {},
   "outputs": [],
   "source": [
    "def get_sprite_image(s_pkmn):\n",
    "    status_code = 0\n",
    "    url_sprite = s_pkmn['url_sprite']\n",
    "    name = s_pkmn['name']\n",
    "    \n",
    "    with urlopen(url_sprite) as f:\n",
    "        status_code = f.status\n",
    "        img = Image.open(f)\n",
    "        img.save(f'data/pokemon_sprites/{name}.{img.format.lower()}',\n",
    "         format=img.format)\n",
    "        \n",
    "    return status_code"
   ]
  },
  {
   "cell_type": "code",
   "execution_count": 25,
   "id": "24e871b6-b075-4051-805b-5267fe06aa10",
   "metadata": {},
   "outputs": [
    {
     "data": {
      "text/plain": [
       "0      200\n",
       "1      200\n",
       "2      200\n",
       "3      200\n",
       "4      200\n",
       "      ... \n",
       "146    200\n",
       "147    200\n",
       "148    200\n",
       "149    200\n",
       "150    200\n",
       "Length: 151, dtype: int64"
      ]
     },
     "execution_count": 25,
     "metadata": {},
     "output_type": "execute_result"
    }
   ],
   "source": [
    "df_pkmn_resources.apply(get_sprite_image, axis=1)"
   ]
  }
 ],
 "metadata": {
  "kernelspec": {
   "display_name": "Python 3 (ipykernel)",
   "language": "python",
   "name": "python3"
  },
  "language_info": {
   "codemirror_mode": {
    "name": "ipython",
    "version": 3
   },
   "file_extension": ".py",
   "mimetype": "text/x-python",
   "name": "python",
   "nbconvert_exporter": "python",
   "pygments_lexer": "ipython3",
   "version": "3.11.4"
  }
 },
 "nbformat": 4,
 "nbformat_minor": 5
}
